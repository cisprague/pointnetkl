{
 "cells": [
  {
   "cell_type": "code",
   "execution_count": 1,
   "metadata": {},
   "outputs": [],
   "source": [
    "import sys; sys.path.append('../src/')\n",
    "from pointnetkl import *"
   ]
  },
  {
   "cell_type": "code",
   "execution_count": 2,
   "metadata": {},
   "outputs": [],
   "source": [
    "# load our best network\n",
    "net = torch.load('../models/1000x4_all.net', map_location='cpu')"
   ]
  },
  {
   "cell_type": "code",
   "execution_count": 3,
   "metadata": {},
   "outputs": [],
   "source": [
    "# our datasets\n",
    "datasets = ['../data/consolidated/{}_val.npy'.format(name) for name in ['antarctica', 'borno']]"
   ]
  },
  {
   "cell_type": "code",
   "execution_count": 4,
   "metadata": {},
   "outputs": [
    {
     "name": "stdout",
     "output_type": "stream",
     "text": [
      "Loading ../data/consolidated/antarctica_val.npy\n",
      "The loss for ../data/consolidated/antarctica_val.npy is 3.4958412691459553\n",
      "Loading ../data/consolidated/borno_val.npy\n",
      "The loss for ../data/consolidated/borno_val.npy is 0.37351390169326054\n"
     ]
    }
   ],
   "source": [
    "# for each dataset\n",
    "for name in datasets:\n",
    "    \n",
    "    # load the dataset\n",
    "    d = Data([name])\n",
    "\n",
    "    # put the dataset into a PyTorch loader\n",
    "    d = torch.utils.data.DataLoader(d, batch_size=10)\n",
    "    \n",
    "    # list of losses for each sample\n",
    "    losses = list()\n",
    "\n",
    "    # loop through batches because memory is a problem :'(\n",
    "    for submap, prior, posterior, rho, submap_fn, covariance_fn in d:\n",
    "\n",
    "        # get the posterior predictions\n",
    "        posterior_p = net(submap, prior, rho)\n",
    "\n",
    "        # compute the losses per sample for this batch\n",
    "        loss = Model.kl_loss(posterior, posterior_p)\n",
    "\n",
    "        # add the losses to the main loss list\n",
    "        [losses.append(l.item()) for l in loss]\n",
    "\n",
    "    # average the losses\n",
    "    losses = sum(losses)/len(losses)\n",
    "    \n",
    "    # print message\n",
    "    print('The loss for {} is {}'.format(name, losses))"
   ]
  }
 ],
 "metadata": {
  "kernelspec": {
   "display_name": "Python 3",
   "language": "python",
   "name": "python3"
  },
  "language_info": {
   "codemirror_mode": {
    "name": "ipython",
    "version": 3
   },
   "file_extension": ".py",
   "mimetype": "text/x-python",
   "name": "python",
   "nbconvert_exporter": "python",
   "pygments_lexer": "ipython3",
   "version": "3.5.2"
  }
 },
 "nbformat": 4,
 "nbformat_minor": 2
}
